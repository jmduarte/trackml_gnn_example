{
 "cells": [
  {
   "cell_type": "markdown",
   "metadata": {},
   "source": [
    "# Parsing GNN models"
   ]
  },
  {
   "cell_type": "markdown",
   "metadata": {},
   "source": [
    "## 1. Abdul's model "
   ]
  },
  {
   "cell_type": "markdown",
   "metadata": {},
   "source": [
    "Model generated from: https://github.com/GageDeZoort/interaction_network_paper"
   ]
  },
  {
   "cell_type": "code",
   "execution_count": 4,
   "metadata": {},
   "outputs": [],
   "source": [
    "import torch\n",
    "\n",
    "model = torch.jit.load('ts_model.pt')"
   ]
  },
  {
   "cell_type": "code",
   "execution_count": 9,
   "metadata": {},
   "outputs": [
    {
     "name": "stdout",
     "output_type": "stream",
     "text": [
      "----------------MODEL----------------\n",
      "RecursiveScriptModule(\n",
      "  original_name=InteractionNetwork\n",
      "  (phi_R1): RecursiveScriptModule(\n",
      "    original_name=RelationalModel\n",
      "    (layers): RecursiveScriptModule(\n",
      "      original_name=Sequential\n",
      "      (0): RecursiveScriptModule(original_name=Linear)\n",
      "      (1): RecursiveScriptModule(original_name=ELU)\n",
      "      (2): RecursiveScriptModule(original_name=Linear)\n",
      "      (3): RecursiveScriptModule(original_name=ELU)\n",
      "      (4): RecursiveScriptModule(original_name=Linear)\n",
      "      (5): RecursiveScriptModule(original_name=ELU)\n",
      "      (6): RecursiveScriptModule(original_name=Linear)\n",
      "    )\n",
      "  )\n",
      "  (phi_R2): RecursiveScriptModule(\n",
      "    original_name=RelationalModel\n",
      "    (layers): RecursiveScriptModule(\n",
      "      original_name=Sequential\n",
      "      (0): RecursiveScriptModule(original_name=Linear)\n",
      "      (1): RecursiveScriptModule(original_name=ELU)\n",
      "      (2): RecursiveScriptModule(original_name=Linear)\n",
      "      (3): RecursiveScriptModule(original_name=ELU)\n",
      "      (4): RecursiveScriptModule(original_name=Linear)\n",
      "      (5): RecursiveScriptModule(original_name=ELU)\n",
      "      (6): RecursiveScriptModule(original_name=Linear)\n",
      "    )\n",
      "  )\n",
      "  (phi_O): RecursiveScriptModule(\n",
      "    original_name=ObjectModel\n",
      "    (layers): RecursiveScriptModule(\n",
      "      original_name=Sequential\n",
      "      (0): RecursiveScriptModule(original_name=Linear)\n",
      "      (1): RecursiveScriptModule(original_name=ELU)\n",
      "      (2): RecursiveScriptModule(original_name=Linear)\n",
      "      (3): RecursiveScriptModule(original_name=ELU)\n",
      "      (4): RecursiveScriptModule(original_name=Linear)\n",
      "    )\n",
      "  )\n",
      ")\n",
      "----------------CODE----------------\n",
      "def forward(self,\n",
      "    X: Tensor,\n",
      "    Ra: Tensor,\n",
      "    Ro: Tensor,\n",
      "    Ri: Tensor) -> Tensor:\n",
      "  X0 = torch.transpose(X, 1, 2)\n",
      "  Xi = torch.bmm(Ro, X0)\n",
      "  Xo = torch.bmm(Ri, X0)\n",
      "  m1 = torch.cat([Xi, Xo, Ra], 2)\n",
      "  E = (self.phi_R1).forward(m1, )\n",
      "  A = torch.bmm(torch.transpose(Ri, 1, 2), E)\n",
      "  C = torch.cat([X0, A], 2)\n",
      "  X_tilde = (self.phi_O).forward(C, )\n",
      "  Xi_tilde = torch.bmm(Ri, X_tilde)\n",
      "  Xo_tilde = torch.bmm(Ro, X_tilde)\n",
      "  m2 = torch.cat([Xi_tilde, Xo_tilde, E], 2)\n",
      "  W = torch.sigmoid((self.phi_R2).forward(m2, ))\n",
      "  return W\n",
      "\n"
     ]
    }
   ],
   "source": [
    "#Get an overview of the model\n",
    "print('--'*8 + 'MODEL' + '--'*8)\n",
    "print(model)\n",
    "print('--'*8 + 'CODE' + '--'*8)\n",
    "print(model.code)"
   ]
  },
  {
   "cell_type": "code",
   "execution_count": 10,
   "metadata": {},
   "outputs": [
    {
     "name": "stdout",
     "output_type": "stream",
     "text": [
      "graph(%self.1 : __torch__.models.interaction_network.InteractionNetwork,\n",
      "      %X.1 : Tensor,\n",
      "      %Ra.1 : Tensor,\n",
      "      %Ro.1 : Tensor,\n",
      "      %Ri.1 : Tensor):\n",
      "  %6 : int = prim::Constant[value=1]() # C:\\Users\\abdel\\GitHub\\interaction_network\\models\\interaction_network.py:53:31\n",
      "  %7 : int = prim::Constant[value=2]() # C:\\Users\\abdel\\GitHub\\interaction_network\\models\\interaction_network.py:53:34\n",
      "  %X0.1 : Tensor = aten::transpose(%X.1, %6, %7) # C:\\Users\\abdel\\GitHub\\interaction_network\\models\\interaction_network.py:53:12\n",
      "  %Xi.1 : Tensor = aten::bmm(%Ro.1, %X0.1) # C:\\Users\\abdel\\GitHub\\interaction_network\\models\\interaction_network.py:56:13\n",
      "  %Xo.1 : Tensor = aten::bmm(%Ri.1, %X0.1) # C:\\Users\\abdel\\GitHub\\interaction_network\\models\\interaction_network.py:57:13\n",
      "  %18 : Tensor[] = prim::ListConstruct(%Xi.1, %Xo.1, %Ra.1)\n",
      "  %m1.1 : Tensor = aten::cat(%18, %7) # C:\\Users\\abdel\\GitHub\\interaction_network\\models\\interaction_network.py:58:13\n",
      "  %21 : __torch__.models.interaction_network.RelationalModel = prim::GetAttr[name=\"phi_R1\"](%self.1)\n",
      "  %E.1 : Tensor = prim::CallMethod[name=\"forward\"](%21, %m1.1) # :0:0\n",
      "  %25 : Tensor = aten::transpose(%Ri.1, %6, %7) # C:\\Users\\abdel\\GitHub\\interaction_network\\models\\interaction_network.py:64:22\n",
      "  %A.1 : Tensor = aten::bmm(%25, %E.1) # C:\\Users\\abdel\\GitHub\\interaction_network\\models\\interaction_network.py:64:12\n",
      "  %30 : Tensor[] = prim::ListConstruct(%X0.1, %A.1)\n",
      "  %C.1 : Tensor = aten::cat(%30, %7) # C:\\Users\\abdel\\GitHub\\interaction_network\\models\\interaction_network.py:65:12\n",
      "  %33 : __torch__.models.interaction_network.ObjectModel = prim::GetAttr[name=\"phi_O\"](%self.1)\n",
      "  %X_tilde.1 : Tensor = prim::CallMethod[name=\"forward\"](%33, %C.1) # :0:0\n",
      "  %Xi_tilde.1 : Tensor = aten::bmm(%Ri.1, %X_tilde.1) # C:\\Users\\abdel\\GitHub\\interaction_network\\models\\interaction_network.py:71:19\n",
      "  %Xo_tilde.1 : Tensor = aten::bmm(%Ro.1, %X_tilde.1) # C:\\Users\\abdel\\GitHub\\interaction_network\\models\\interaction_network.py:72:19\n",
      "  %45 : Tensor[] = prim::ListConstruct(%Xi_tilde.1, %Xo_tilde.1, %E.1)\n",
      "  %m2.1 : Tensor = aten::cat(%45, %7) # C:\\Users\\abdel\\GitHub\\interaction_network\\models\\interaction_network.py:73:13\n",
      "  %48 : __torch__.models.interaction_network.___torch_mangle_6.RelationalModel = prim::GetAttr[name=\"phi_R2\"](%self.1)\n",
      "  %50 : Tensor = prim::CallMethod[name=\"forward\"](%48, %m2.1) # :0:0\n",
      "  %W.1 : Tensor = aten::sigmoid(%50) # C:\\Users\\abdel\\GitHub\\interaction_network\\models\\interaction_network.py:75:12\n",
      "  return (%W.1)\n",
      "\n"
     ]
    }
   ],
   "source": [
    "#Investigate the model's graph\n",
    "print(model.graph)"
   ]
  },
  {
   "cell_type": "code",
   "execution_count": 21,
   "metadata": {},
   "outputs": [
    {
     "name": "stdout",
     "output_type": "stream",
     "text": [
      "%6 : int = prim::Constant[value=1]() # C:\\Users\\abdel\\GitHub\\interaction_network\\models\\interaction_network.py:53:31\n",
      "\n",
      "%7 : int = prim::Constant[value=2]() # C:\\Users\\abdel\\GitHub\\interaction_network\\models\\interaction_network.py:53:34\n",
      "\n",
      "%X0.1 : Tensor = aten::transpose(%X.1, %6, %7) # C:\\Users\\abdel\\GitHub\\interaction_network\\models\\interaction_network.py:53:12\n",
      "\n",
      "%Xi.1 : Tensor = aten::bmm(%Ro.1, %X0.1) # C:\\Users\\abdel\\GitHub\\interaction_network\\models\\interaction_network.py:56:13\n",
      "\n",
      "%Xo.1 : Tensor = aten::bmm(%Ri.1, %X0.1) # C:\\Users\\abdel\\GitHub\\interaction_network\\models\\interaction_network.py:57:13\n",
      "\n",
      "%18 : Tensor[] = prim::ListConstruct(%Xi.1, %Xo.1, %Ra.1)\n",
      "\n",
      "%m1.1 : Tensor = aten::cat(%18, %7) # C:\\Users\\abdel\\GitHub\\interaction_network\\models\\interaction_network.py:58:13\n",
      "\n",
      "%21 : __torch__.models.interaction_network.RelationalModel = prim::GetAttr[name=\"phi_R1\"](%self.1)\n",
      "\n",
      "%E.1 : Tensor = prim::CallMethod[name=\"forward\"](%21, %m1.1) # :0:0\n",
      "\n",
      "%25 : Tensor = aten::transpose(%Ri.1, %6, %7) # C:\\Users\\abdel\\GitHub\\interaction_network\\models\\interaction_network.py:64:22\n",
      "\n",
      "%A.1 : Tensor = aten::bmm(%25, %E.1) # C:\\Users\\abdel\\GitHub\\interaction_network\\models\\interaction_network.py:64:12\n",
      "\n",
      "%30 : Tensor[] = prim::ListConstruct(%X0.1, %A.1)\n",
      "\n",
      "%C.1 : Tensor = aten::cat(%30, %7) # C:\\Users\\abdel\\GitHub\\interaction_network\\models\\interaction_network.py:65:12\n",
      "\n",
      "%33 : __torch__.models.interaction_network.ObjectModel = prim::GetAttr[name=\"phi_O\"](%self.1)\n",
      "\n",
      "%X_tilde.1 : Tensor = prim::CallMethod[name=\"forward\"](%33, %C.1) # :0:0\n",
      "\n",
      "%Xi_tilde.1 : Tensor = aten::bmm(%Ri.1, %X_tilde.1) # C:\\Users\\abdel\\GitHub\\interaction_network\\models\\interaction_network.py:71:19\n",
      "\n",
      "%Xo_tilde.1 : Tensor = aten::bmm(%Ro.1, %X_tilde.1) # C:\\Users\\abdel\\GitHub\\interaction_network\\models\\interaction_network.py:72:19\n",
      "\n",
      "%45 : Tensor[] = prim::ListConstruct(%Xi_tilde.1, %Xo_tilde.1, %E.1)\n",
      "\n",
      "%m2.1 : Tensor = aten::cat(%45, %7) # C:\\Users\\abdel\\GitHub\\interaction_network\\models\\interaction_network.py:73:13\n",
      "\n",
      "%48 : __torch__.models.interaction_network.___torch_mangle_6.RelationalModel = prim::GetAttr[name=\"phi_R2\"](%self.1)\n",
      "\n",
      "%50 : Tensor = prim::CallMethod[name=\"forward\"](%48, %m2.1) # :0:0\n",
      "\n",
      "%W.1 : Tensor = aten::sigmoid(%50) # C:\\Users\\abdel\\GitHub\\interaction_network\\models\\interaction_network.py:75:12\n",
      "\n"
     ]
    }
   ],
   "source": [
    "#Try to loop through it\n",
    "for a in model.graph.nodes():\n",
    "    print(a)"
   ]
  },
  {
   "cell_type": "code",
   "execution_count": null,
   "metadata": {},
   "outputs": [],
   "source": []
  }
 ],
 "metadata": {
  "kernelspec": {
   "display_name": "Python 3",
   "language": "python",
   "name": "python3"
  },
  "language_info": {
   "codemirror_mode": {
    "name": "ipython",
    "version": 3
   },
   "file_extension": ".py",
   "mimetype": "text/x-python",
   "name": "python",
   "nbconvert_exporter": "python",
   "pygments_lexer": "ipython3",
   "version": "3.6.12"
  }
 },
 "nbformat": 4,
 "nbformat_minor": 4
}
